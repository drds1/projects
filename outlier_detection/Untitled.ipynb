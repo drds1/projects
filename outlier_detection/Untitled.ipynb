{
 "cells": [
  {
   "cell_type": "markdown",
   "metadata": {},
   "source": [
    "Demostration of the various functions of mod_sc.py\n",
    "\n",
    "\n",
    "First identify Contextual anomalies (Talga et al 18 Figure 1a)"
   ]
  },
  {
   "cell_type": "code",
   "execution_count": null,
   "metadata": {},
   "outputs": [],
   "source": [
    "#generate some fake random data to test the code. Specify the parameters of the fake data below\n",
    "filter_size = 5\n",
    "fname = 'running median'\n",
    "sd_fake = 3.0\n",
    "n_fake  = 1000\n",
    "#some subset of the fake data will be the 'test outliers' the code is tasked to identify.\n",
    "#the parameters should be setup so that n_outlier < n_fake and sd_outlier > sd_fake.\n",
    "n_outlier = 23\n",
    "sd_outlier = 10.0\n",
    "data_y = np.random.randn(n_fake)*sd_fake\n",
    "id_test = np.random.choice(np.arange(n_fake), size=n_outlier, replace=False)\n",
    "data_y[id_test] = np.random.randn(n_outlier)*sd_outlier\n",
    "#also have the option of including irregularly spaced time-series data by speciffying a \n",
    "#unique input array for the x-axis (code assumes regular sampling if no input)\n",
    "data_x = np.arange(n_fake)\n",
    "#Call the outlier rejection function defined above and test on the fake data.\n",
    "data_y_pass,data_x_pass,model_y,idx_outlier = outrej(data_y,data_x,sd_check=3.5,\n",
    "fname='running median',filter_size = 5,max_iteration=10,diagnostic_figure='show')"
   ]
  },
  {
   "cell_type": "code",
   "execution_count": null,
   "metadata": {},
   "outputs": [],
   "source": []
  }
 ],
 "metadata": {
  "kernelspec": {
   "display_name": "Python 2",
   "language": "python",
   "name": "python2"
  },
  "language_info": {
   "codemirror_mode": {
    "name": "ipython",
    "version": 2
   },
   "file_extension": ".py",
   "mimetype": "text/x-python",
   "name": "python",
   "nbconvert_exporter": "python",
   "pygments_lexer": "ipython2",
   "version": "2.7.15"
  }
 },
 "nbformat": 4,
 "nbformat_minor": 2
}
