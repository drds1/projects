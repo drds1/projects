{
 "cells": [
  {
   "cell_type": "markdown",
   "metadata": {},
   "source": [
    "This function aims to apply sigma-clipping to reject outlying data points in time-series data. The model iterativelty fits a smooth polynomial function (with the order as an input parameter) and rejects outliers beyond n-standard deviations of the fit (n is the second input parameter). The iterations end when no further poins are rejected or after a maximum of 100 is reached (the process should never take this long and a flag will raise if this occurs).\n",
    "\n",
    "First import requried modiles."
   ]
  },
  {
   "cell_type": "code",
   "execution_count": null,
   "metadata": {},
   "outputs": [],
   "source": [
    "import nunmpy as np\n",
    "import scipy\n",
    "import matplotlib.pylab as plt\n",
    "import scipy.optimize.curve_fit as mcf\n",
    "\n",
    "\n",
    "filter_size = 5\n",
    "fname = 'runmed'"
   ]
  },
  {
   "cell_type": "markdown",
   "metadata": {},
   "source": [
    "generate some fake random data to test the code. Specify the parameters of the fake data below"
   ]
  },
  {
   "cell_type": "code",
   "execution_count": 1,
   "metadata": {},
   "outputs": [
    {
     "ename": "NameError",
     "evalue": "name 'np' is not defined",
     "output_type": "error",
     "traceback": [
      "\u001b[0;31m---------------------------------------------------------------------------\u001b[0m",
      "\u001b[0;31mNameError\u001b[0m                                 Traceback (most recent call last)",
      "\u001b[0;32m<ipython-input-1-b361bdc030c7>\u001b[0m in \u001b[0;36m<module>\u001b[0;34m()\u001b[0m\n\u001b[1;32m      8\u001b[0m \u001b[0;34m\u001b[0m\u001b[0m\n\u001b[1;32m      9\u001b[0m \u001b[0;34m\u001b[0m\u001b[0m\n\u001b[0;32m---> 10\u001b[0;31m \u001b[0mdata\u001b[0m \u001b[0;34m=\u001b[0m \u001b[0mnp\u001b[0m\u001b[0;34m.\u001b[0m\u001b[0mrandom\u001b[0m\u001b[0;34m.\u001b[0m\u001b[0mrandn\u001b[0m\u001b[0;34m(\u001b[0m\u001b[0mn_fake\u001b[0m\u001b[0;34m)\u001b[0m\u001b[0;34m*\u001b[0m\u001b[0msd_fake\u001b[0m\u001b[0;34m\u001b[0m\u001b[0m\n\u001b[0m\u001b[1;32m     11\u001b[0m \u001b[0mid_test\u001b[0m \u001b[0;34m=\u001b[0m \u001b[0mnp\u001b[0m\u001b[0;34m.\u001b[0m\u001b[0mrandom\u001b[0m\u001b[0;34m.\u001b[0m\u001b[0mchoice\u001b[0m\u001b[0;34m(\u001b[0m\u001b[0mnp\u001b[0m\u001b[0;34m.\u001b[0m\u001b[0marange\u001b[0m\u001b[0;34m(\u001b[0m\u001b[0mn_fake\u001b[0m\u001b[0;34m)\u001b[0m\u001b[0;34m,\u001b[0m \u001b[0msize\u001b[0m\u001b[0;34m=\u001b[0m\u001b[0mn_outlier\u001b[0m\u001b[0;34m,\u001b[0m \u001b[0mreplace\u001b[0m\u001b[0;34m=\u001b[0m\u001b[0mFalse\u001b[0m\u001b[0;34m)\u001b[0m\u001b[0;34m\u001b[0m\u001b[0m\n\u001b[1;32m     12\u001b[0m \u001b[0mdata\u001b[0m\u001b[0;34m[\u001b[0m\u001b[0mid_test\u001b[0m\u001b[0;34m]\u001b[0m \u001b[0;34m=\u001b[0m \u001b[0mnp\u001b[0m\u001b[0;34m.\u001b[0m\u001b[0mrandom\u001b[0m\u001b[0;34m.\u001b[0m\u001b[0mrandn\u001b[0m\u001b[0;34m(\u001b[0m\u001b[0mn_outlier\u001b[0m\u001b[0;34m)\u001b[0m\u001b[0;34m*\u001b[0m\u001b[0msd_outlier\u001b[0m\u001b[0;34m\u001b[0m\u001b[0m\n",
      "\u001b[0;31mNameError\u001b[0m: name 'np' is not defined"
     ]
    }
   ],
   "source": [
    "sd_fake = 3.0\n",
    "n_fake  = 1000\n",
    "\n",
    "#some subset of the fake data will be the 'test outliers' the code is tasked to identify.\n",
    "#the parameters should be setup so that n_outlier < n_fake and sd_outlier > sd_fake.\n",
    "n_outlier = 23\n",
    "sd_outlier = 5\n",
    "n_poly = 3\n",
    "\n",
    "data_y = np.random.randn(n_fake)*sd_fake\n",
    "id_test = np.random.choice(np.arange(n_fake), size=n_outlier, replace=False)\n",
    "data_y[id_test] = np.random.randn(n_outlier)*sd_outlier\n",
    "\n",
    "#also have the option of including irregularly spaced time-series data by speciffying a \n",
    "#unique input array for the x-axis (code assumes regular sampling if no input)\n",
    "data_x = np.arange(n_fake)\n"
   ]
  },
  {
   "cell_type": "markdown",
   "metadata": {},
   "source": [
    "If the degree of the polynomial is not specified, use Bayesian Information Criterion to set."
   ]
  },
  {
   "cell_type": "code",
   "execution_count": null,
   "metadata": {},
   "outputs": [],
   "source": [
    "#nmax = 10\n",
    "#\n",
    "#\n",
    "#def func(x, p): \n",
    "# op = []\n",
    "# np = len(p)\n",
    "# for ip in range(np):\n",
    "#  op.append(np.sum([p[ip]*x**ip])\n",
    "# return(np.array(op))\n",
    "#               \n",
    "#def func2(*args):\n",
    "#    return func(args[0],args[1:])\n",
    "#\n",
    "#for i in range(10):\n",
    "# fit = mcf(func2, xdata, ydata, p0=None, sigma=None, absolute_sigma=False, check_finite=True, bounds=(-inf, inf), method=None, jac=None, **kwargs)[source]"
   ]
  },
  {
   "cell_type": "code",
   "execution_count": null,
   "metadata": {},
   "outputs": [],
   "source": [
    "def func1(x,p):\n",
    " return(p[0]+x*p[1])\n",
    "def func2(x,p):\n",
    " return(p[0]+p[1]*x+p[2]*x**2)\n",
    "\n",
    "def movingaverage (x,y, window):\n",
    " weights = np.repeat(1.0, window)/window\n",
    " sma = np.convolve(y, weights, 'valid')\n",
    " sma_x = x[window:]\n",
    " return(sma_x,sma)\n",
    "\n",
    "\n",
    "\n",
    "\n",
    "data_x = np.array(data_x_in)\n",
    "data_y = np.array(data_y_in)\n",
    "out_x = []\n",
    "out_y = []\n",
    "for i in range(max_iteration):\n",
    " \n",
    " #fit smooth function (straight line or running mean)\n",
    " if (fname == 'linear'): \n",
    "  popt, pcov = mcf(func, data_x, data_y, p0=(1, 1))\n",
    "  model_y = popt[0] + data_x*popt[1]\n",
    "  model_x = np.array(data_x)\n",
    " elif (fname == 'quadratic'):\n",
    "  popt, pcov = mcf(func2, data_x, data_y, p0=(1, 1))\n",
    "  model_y = popt[0] + popt[1]*data_x + popt[2]*data_x**2\n",
    "  model_x = np.array(data_x) \n",
    " elif (fname == 'running median'):\n",
    "  model_y = scipy.signal.medfilt(data_y, kernel_size=filter_size)\n",
    "  model_x = np.array(data_x)\n",
    " elif (fname == 'running mean'):\n",
    "  model_x,model_y = movingaverage(data_x,data_y,filter_size)\n",
    "\n",
    "\n",
    " #compute the residuals ( abs[data-model])\n",
    " model_itp = np.interpolate(data_x,model_x,model_y)   \n",
    " residual = np.abs(data_y - model_itp)\n",
    "\n",
    "    \n",
    " #identify points greater than sd_outlier from the model \n",
    " sd = np.std(residual)\n",
    " id_out = np.where(residual > sd_outlier*sd)\n",
    " n_out = np.shape(id_out)[0] \n",
    "\n",
    "    \n",
    " #flag outliers and remove from them from the data arrays for the next iteration\n",
    " print 'iteration ',iteration\n",
    " print n_out,'outliers found'\n",
    " for (id in id_out):\n",
    "  print data_x[id],data_y[id]\n",
    "\n",
    " out_x.append(data_x[idout])\n",
    " out_y.append(data_y[idout])\n",
    " data_x = np.delete(data_x,id_out)\n",
    " data_y = np.delete(data_y,id_out)\n",
    "\n",
    "\n",
    "  \n",
    " #exit the loop prematurely if no outliers found\n",
    " if (np.shape(id_out)[0] == 0):\n",
    "  print 'no further oultiers found after iteration ',iteration,' exiting...'\n",
    "\n",
    "\n",
    "\n",
    "\n"
   ]
  }
 ],
 "metadata": {
  "kernelspec": {
   "display_name": "Python 2",
   "language": "python",
   "name": "python2"
  },
  "language_info": {
   "codemirror_mode": {
    "name": "ipython",
    "version": 2
   },
   "file_extension": ".py",
   "mimetype": "text/x-python",
   "name": "python",
   "nbconvert_exporter": "python",
   "pygments_lexer": "ipython2",
   "version": "2.7.15"
  }
 },
 "nbformat": 4,
 "nbformat_minor": 2
}
