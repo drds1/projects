{
 "cells": [
  {
   "cell_type": "markdown",
   "metadata": {},
   "source": [
    "Demostration of the various functions of mod_sc.py\n",
    "\n",
    "\n",
    "First identify Contextual anomalies (Talga et al 18 Figure 1a)"
   ]
  },
  {
   "cell_type": "code",
   "execution_count": null,
   "metadata": {},
   "outputs": [],
   "source": [
    "import numpy as np\n",
    "import scipy\n",
    "import matplotlib.pylab as plt\n",
    "import scipy.optimize as mcf\n",
    "import scipy.signal as ssig\n",
    "import matplotlib.gridspec as gridspec\n",
    "import outlier_rejection as orej\n",
    "\n",
    "\n",
    "#generate some fake random data to test the code. Specify the parameters of the fake data below\n",
    "filter_size = 5\n",
    "fname = 'running median'\n",
    "sd_true = 3.0\n",
    "n_true  = 1000\n",
    "#some subset of the fake data will be the 'test outliers' the code is tasked to identify.\n",
    "#the parameters should be setup so that n_outlier < n_fake and sd_outlier > sd_fake.\n",
    "n_outlier = 20\n",
    "mean_outlier = 10.0\n",
    "sd_outlier = 1.0\n",
    "data_y = np.random.randn(n_true)*sd_true\n",
    "id_test = np.random.choice(np.arange(n_true), size=n_outlier, replace=False)\n",
    "data_y[id_test] = np.random.randn(n_outlier)*sd_outlier + mean_outlier\n",
    "idneg = np.random.choice(np.arange(n_outlier), size=n_outlier/2, replace=False)\n",
    "data_y[id_test[idneg]] = -1*data_y[id_test[idneg]]\n",
    "\n",
    "#Call the outlier rejection function defined above and test on the fake data.\n",
    "id_out = orej.outlier_modsc(data_y,sd_check=3.5,\n",
    "fname='running median',filter_size = 5,max_iteration=10,diagnostic_figure='show')"
   ]
  },
  {
   "cell_type": "markdown",
   "metadata": {},
   "source": [
    "Now flag anomalous sub-sequences within a given series"
   ]
  },
  {
   "cell_type": "code",
   "execution_count": null,
   "metadata": {},
   "outputs": [],
   "source": [
    "subsequence_size = 10\n",
    "data_y = np.random.randn(n_true)*sd_true\n",
    "id_test = np.arange(n_true,n_true+subsequence_size)\n",
    "data_y[id_test] = np.random.randn(subsequence_size)*sd_outlier + mean_outlier\n",
    "data_y_pass,data_x_pass,model_y,idx_outlier = orej.outrej(data_y,data_x,sd_check=3.5,\n",
    "fname='global median',filter_size = 5,max_iteration=10,diagnostic_figure='show')"
   ]
  },
  {
   "cell_type": "code",
   "execution_count": null,
   "metadata": {},
   "outputs": [],
   "source": []
  },
  {
   "cell_type": "code",
   "execution_count": null,
   "metadata": {},
   "outputs": [],
   "source": [
    "id_out = orej.outlier_modsc(data_y,sd_check=5,fname='running median',runtype='series',filter_size = 5,max_iteration=10,diagnostic_figure=''):\n"
   ]
  }
 ],
 "metadata": {
  "kernelspec": {
   "display_name": "Python 2",
   "language": "python",
   "name": "python2"
  },
  "language_info": {
   "codemirror_mode": {
    "name": "ipython",
    "version": 2
   },
   "file_extension": ".py",
   "mimetype": "text/x-python",
   "name": "python",
   "nbconvert_exporter": "python",
   "pygments_lexer": "ipython2",
   "version": "2.7.15"
  }
 },
 "nbformat": 4,
 "nbformat_minor": 2
}
