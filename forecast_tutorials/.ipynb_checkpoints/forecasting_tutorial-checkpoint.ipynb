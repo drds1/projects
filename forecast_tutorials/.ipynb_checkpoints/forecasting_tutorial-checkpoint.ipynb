{
 "cells": [
  {
   "cell_type": "code",
   "execution_count": null,
   "metadata": {},
   "outputs": [],
   "source": [
    "import numpy as np\n",
    "import matplotlib.pylab as plt"
   ]
  },
  {
   "cell_type": "markdown",
   "metadata": {},
   "source": [
    "Generate some fake non-stationary time series data.\n",
    "\n",
    "The time series includes trend, seasonal, and noise components."
   ]
  },
  {
   "cell_type": "code",
   "execution_count": null,
   "metadata": {},
   "outputs": [],
   "source": [
    "ndays = 100\n",
    "time = np.arange(ndays)\n",
    "nosie = 0.1\n",
    "trend = 0.1*time\n",
    "seasonal = 1* np.sin(2*np.pi* 1/30 * time)\n",
    "\n",
    "flows = trend + seasonal + np.random.randn(ndays)*noise"
   ]
  },
  {
   "cell_type": "markdown",
   "metadata": {},
   "source": [
    "Now we begin attempting to forecast beyond the final data point. First define the length of the forecast (try 30 days)."
   ]
  },
  {
   "cell_type": "code",
   "execution_count": null,
   "metadata": {},
   "outputs": [],
   "source": [
    "forecast = 30\n",
    "\n",
    "time_total = np.arange(ndays + forecast)"
   ]
  },
  {
   "cell_type": "code",
   "execution_count": null,
   "metadata": {},
   "outputs": [],
   "source": []
  },
  {
   "cell_type": "code",
   "execution_count": null,
   "metadata": {},
   "outputs": [],
   "source": []
  },
  {
   "cell_type": "code",
   "execution_count": null,
   "metadata": {},
   "outputs": [],
   "source": []
  },
  {
   "cell_type": "markdown",
   "metadata": {},
   "source": [
    "Now use polynomial fit to model trend"
   ]
  },
  {
   "cell_type": "code",
   "execution_count": null,
   "metadata": {},
   "outputs": [],
   "source": [
    "from prediction_functions.vortexa_polyfit import *\n",
    "output = fit(time, flows, sig=np.ones(ndays)*noise, order=1, xgrid=time_total, confidence=0.3173, nits=20000, figure_title='', verbose=False)\n",
    "yg_med, yg_lo, yg_hi, cov, cisq, cisq_red, bic, aic, rmd = output\n",
    "\n",
    "\n",
    "#plot the result\n",
    "fig = plt.figure()\n",
    "ax1 = fig.add_subplot(111)\n",
    "ax1.plot(time,flows,maker='o',ls='',label='data')\n",
    "ax1.plot(time_total,yg_med,label='trend fit')\n",
    "ax1.fill_between(time_total,yg_lo,yg_hi)\n",
    "plt.show()"
   ]
  }
 ],
 "metadata": {
  "kernelspec": {
   "display_name": "Python 3",
   "language": "python",
   "name": "python3"
  },
  "language_info": {
   "codemirror_mode": {
    "name": "ipython",
    "version": 3
   },
   "file_extension": ".py",
   "mimetype": "text/x-python",
   "name": "python",
   "nbconvert_exporter": "python",
   "pygments_lexer": "ipython3",
   "version": "3.6.6"
  }
 },
 "nbformat": 4,
 "nbformat_minor": 2
}
